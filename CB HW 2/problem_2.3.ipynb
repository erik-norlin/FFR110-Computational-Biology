{
 "cells": [
  {
   "cell_type": "code",
   "execution_count": 12,
   "metadata": {},
   "outputs": [
    {
     "ename": "KeyboardInterrupt",
     "evalue": "",
     "output_type": "error",
     "traceback": [
      "\u001b[1;31m---------------------------------------------------------------------------\u001b[0m",
      "\u001b[1;31mKeyboardInterrupt\u001b[0m                         Traceback (most recent call last)",
      "Cell \u001b[1;32mIn[12], line 52\u001b[0m\n\u001b[0;32m     50\u001b[0m title \u001b[39m=\u001b[39m \u001b[39m'\u001b[39m\u001b[39m/2.3b_\u001b[39m\u001b[39m{}\u001b[39;00m\u001b[39m'\u001b[39m\u001b[39m.\u001b[39mformat(task)\n\u001b[0;32m     51\u001b[0m plt\u001b[39m.\u001b[39msavefig(location\u001b[39m+\u001b[39mtitle\u001b[39m+\u001b[39m\u001b[39m'\u001b[39m\u001b[39m.png\u001b[39m\u001b[39m'\u001b[39m)\n\u001b[1;32m---> 52\u001b[0m plt\u001b[39m.\u001b[39;49mshow()\n",
      "File \u001b[1;32mc:\\Users\\erikn\\OneDrive - Chalmers\\Simulation of Complex Systems\\SCS HW\\ssc_hw\\lib\\site-packages\\matplotlib\\pyplot.py:421\u001b[0m, in \u001b[0;36mshow\u001b[1;34m(*args, **kwargs)\u001b[0m\n\u001b[0;32m    377\u001b[0m \u001b[39m\"\"\"\u001b[39;00m\n\u001b[0;32m    378\u001b[0m \u001b[39mDisplay all open figures.\u001b[39;00m\n\u001b[0;32m    379\u001b[0m \n\u001b[1;32m   (...)\u001b[0m\n\u001b[0;32m    418\u001b[0m \u001b[39mexplicitly there.\u001b[39;00m\n\u001b[0;32m    419\u001b[0m \u001b[39m\"\"\"\u001b[39;00m\n\u001b[0;32m    420\u001b[0m _warn_if_gui_out_of_main_thread()\n\u001b[1;32m--> 421\u001b[0m \u001b[39mreturn\u001b[39;00m _get_backend_mod()\u001b[39m.\u001b[39mshow(\u001b[39m*\u001b[39margs, \u001b[39m*\u001b[39m\u001b[39m*\u001b[39mkwargs)\n",
      "File \u001b[1;32mc:\\Users\\erikn\\OneDrive - Chalmers\\Simulation of Complex Systems\\SCS HW\\ssc_hw\\lib\\site-packages\\matplotlib\\backend_bases.py:3546\u001b[0m, in \u001b[0;36m_Backend.show\u001b[1;34m(cls, block)\u001b[0m\n\u001b[0;32m   3544\u001b[0m     block \u001b[39m=\u001b[39m \u001b[39mnot\u001b[39;00m ipython_pylab \u001b[39mand\u001b[39;00m \u001b[39mnot\u001b[39;00m is_interactive()\n\u001b[0;32m   3545\u001b[0m \u001b[39mif\u001b[39;00m block:\n\u001b[1;32m-> 3546\u001b[0m     \u001b[39mcls\u001b[39;49m\u001b[39m.\u001b[39;49mmainloop()\n",
      "File \u001b[1;32mc:\\Users\\erikn\\OneDrive - Chalmers\\Simulation of Complex Systems\\SCS HW\\ssc_hw\\lib\\site-packages\\matplotlib\\backends\\backend_qt.py:1021\u001b[0m, in \u001b[0;36m_BackendQT.mainloop\u001b[1;34m()\u001b[0m\n\u001b[0;32m   1018\u001b[0m \u001b[39m@staticmethod\u001b[39m\n\u001b[0;32m   1019\u001b[0m \u001b[39mdef\u001b[39;00m \u001b[39mmainloop\u001b[39m():\n\u001b[0;32m   1020\u001b[0m     qapp \u001b[39m=\u001b[39m QtWidgets\u001b[39m.\u001b[39mQApplication\u001b[39m.\u001b[39minstance()\n\u001b[1;32m-> 1021\u001b[0m     \u001b[39mwith\u001b[39;00m _maybe_allow_interrupt(qapp):\n\u001b[0;32m   1022\u001b[0m         qt_compat\u001b[39m.\u001b[39m_exec(qapp)\n",
      "File \u001b[1;32m~\\AppData\\Local\\Programs\\Python\\Python310\\lib\\contextlib.py:142\u001b[0m, in \u001b[0;36m_GeneratorContextManager.__exit__\u001b[1;34m(self, typ, value, traceback)\u001b[0m\n\u001b[0;32m    140\u001b[0m \u001b[39mif\u001b[39;00m typ \u001b[39mis\u001b[39;00m \u001b[39mNone\u001b[39;00m:\n\u001b[0;32m    141\u001b[0m     \u001b[39mtry\u001b[39;00m:\n\u001b[1;32m--> 142\u001b[0m         \u001b[39mnext\u001b[39;49m(\u001b[39mself\u001b[39;49m\u001b[39m.\u001b[39;49mgen)\n\u001b[0;32m    143\u001b[0m     \u001b[39mexcept\u001b[39;00m \u001b[39mStopIteration\u001b[39;00m:\n\u001b[0;32m    144\u001b[0m         \u001b[39mreturn\u001b[39;00m \u001b[39mFalse\u001b[39;00m\n",
      "File \u001b[1;32mc:\\Users\\erikn\\OneDrive - Chalmers\\Simulation of Complex Systems\\SCS HW\\ssc_hw\\lib\\site-packages\\matplotlib\\backends\\qt_compat.py:269\u001b[0m, in \u001b[0;36m_maybe_allow_interrupt\u001b[1;34m(qapp)\u001b[0m\n\u001b[0;32m    267\u001b[0m signal\u001b[39m.\u001b[39msignal(signal\u001b[39m.\u001b[39mSIGINT, old_sigint_handler)\n\u001b[0;32m    268\u001b[0m \u001b[39mif\u001b[39;00m handler_args \u001b[39mis\u001b[39;00m \u001b[39mnot\u001b[39;00m \u001b[39mNone\u001b[39;00m:\n\u001b[1;32m--> 269\u001b[0m     old_sigint_handler(\u001b[39m*\u001b[39;49mhandler_args)\n",
      "\u001b[1;31mKeyboardInterrupt\u001b[0m: "
     ]
    }
   ],
   "source": [
    "import numpy as np\n",
    "import matplotlib.pyplot as plt\n",
    "from scipy.integrate import odeint\n",
    "import PyQt5\n",
    "import matplotlib as mpl\n",
    "mpl.use('Qt5Agg')\n",
    "# import latex \n",
    "# plt.rcParams['text.usetex'] = True\n",
    "\n",
    "task = 1\n",
    "\n",
    "T = 1500\n",
    "dt = 0.05\n",
    "N = 20\n",
    "gamma = 0.1\n",
    "Kc = 2*gamma\n",
    "K = Kc*50\n",
    "phase_list = np.random.uniform(-np.pi/2, np.pi/2, N)\n",
    "U = np.random.uniform(0, 1, N)\n",
    "omega_list = gamma*np.tan(np.pi*U)\n",
    "dtheta_dt = np.zeros_like(omega_list)\n",
    "\n",
    "t_list = np.linspace(0, T, int(T/dt))\n",
    "r_list = np.zeros(len(t_list))\n",
    "\n",
    "# r when t=0\n",
    "real_part = np.sum(np.cos(phase_list))\n",
    "imaginary_part = np.sum(np.sin(phase_list))\n",
    "r_list[0] = ((real_part/N)**2 + (imaginary_part/N)**2)**0.5\n",
    "\n",
    "for t in range(len(t_list)-1):\n",
    "    for i in range(N):\n",
    "        omega = omega_list[i]\n",
    "        phase = phase_list[i]\n",
    "        dtheta_dt[i] = omega + (K/N) * np.sum(np.sin(phase_list - phase)) \n",
    "\n",
    "    phase_list = phase_list + dtheta_dt*dt\n",
    "    real_part = np.sum(np.cos(phase_list))\n",
    "    imaginary_part = np.sum(np.sin(phase_list))\n",
    "    r_list[t+1] = ((real_part/N)**2 + (imaginary_part/N)**2)**0.5\n",
    "\n",
    "fig, ax = plt.subplots(figsize=(7,7))\n",
    "ax.plot(t_list, r_list)\n",
    "ax.set_xlabel('$t$', fontsize=13)\n",
    "ax.set_ylabel('$r$', fontsize=13)\n",
    "ax.set_box_aspect(1) \n",
    "# plt.legend(loc=\"upper right\", prop={'size': 11})\n",
    "\n",
    "location = r'C:\\Users\\erikn\\OneDrive - Chalmers\\Computational Biology\\CB HW 2'\n",
    "title = '/2.3b_{}'.format(task)\n",
    "plt.savefig(location+title+'.png')\n",
    "plt.show()"
   ]
  },
  {
   "cell_type": "code",
   "execution_count": null,
   "metadata": {},
   "outputs": [
    {
     "name": "stdout",
     "output_type": "stream",
     "text": [
      "['agg', 'cairo', 'gtk3', 'gtk3agg', 'gtk3cairo', 'gtk4', 'gtk4agg', 'gtk4cairo', 'macosx', 'mixed', 'nbagg', 'pdf', 'pgf', 'ps', 'qt', 'qt5', 'qt5agg', 'qt5cairo', 'qtagg', 'qtcairo', 'svg', 'template', 'tkagg', 'tkcairo', 'webagg', 'webagg_core', 'wx', 'wxagg', 'wxcairo']\n"
     ]
    }
   ],
   "source": [
    "\n",
    "import matplotlib.backends\n",
    "import os.path\n",
    "\n",
    "def is_backend_module(fname):\n",
    "    \"\"\"Identifies if a filename is a matplotlib backend module\"\"\"\n",
    "    return fname.startswith('backend_') and fname.endswith('.py')\n",
    "\n",
    "def backend_fname_formatter(fname): \n",
    "    \"\"\"Removes the extension of the given filename, then takes away the leading 'backend_'.\"\"\"\n",
    "    return os.path.splitext(fname)[0][8:]\n",
    "\n",
    "# get the directory where the backends live\n",
    "backends_dir = os.path.dirname(matplotlib.backends.__file__)\n",
    "\n",
    "# filter all files in that directory to identify all files which provide a backend\n",
    "backend_fnames = filter(is_backend_module, os.listdir(backends_dir))\n",
    "\n",
    "backends = [backend_fname_formatter(fname) for fname in backend_fnames]\n",
    "\n",
    "print(backends)\n"
   ]
  }
 ],
 "metadata": {
  "kernelspec": {
   "display_name": "ssc_hw",
   "language": "python",
   "name": "python3"
  },
  "language_info": {
   "codemirror_mode": {
    "name": "ipython",
    "version": 3
   },
   "file_extension": ".py",
   "mimetype": "text/x-python",
   "name": "python",
   "nbconvert_exporter": "python",
   "pygments_lexer": "ipython3",
   "version": "3.10.0"
  },
  "orig_nbformat": 4,
  "vscode": {
   "interpreter": {
    "hash": "d2890ea860cbec4ca170bb35d675372ad117385f9ee1dcc7b0fc5d3c8c9b41d9"
   }
  }
 },
 "nbformat": 4,
 "nbformat_minor": 2
}
